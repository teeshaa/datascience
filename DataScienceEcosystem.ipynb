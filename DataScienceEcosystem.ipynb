{
 "cells": [
  {
   "cell_type": "markdown",
   "id": "cfd49787",
   "metadata": {},
   "source": [
    "# Data Science Tools and Ecosystemx"
   ]
  },
  {
   "cell_type": "markdown",
   "id": "706eab15",
   "metadata": {},
   "source": [
    "In this notebook, Data Science Tools and Ecosystem are summarized."
   ]
  },
  {
   "cell_type": "markdown",
   "id": "311650ca",
   "metadata": {},
   "source": [
    "Some of the popular languages that Data Scientists use are: python,r,SQL"
   ]
  },
  {
   "cell_type": "markdown",
   "id": "3fb06219",
   "metadata": {},
   "source": [
    "Some of the commonly used libraries used by Data Scientists include:\n",
    "\n",
    "1. **Pandas**: A powerful library in Python for data manipulation and analysis. It provides easy-to-use data structures and tools for handling structured data.\n",
    "\n",
    "2. **NumPy**: Essential for numerical computing in Python, NumPy offers support for arrays, matrices, and mathematical functions, enabling efficient operations on large datasets.\n",
    "\n",
    "3. **scikit-learn**: A machine learning library in Python that provides simple and efficient tools for data mining and analysis. It includes various algorithms for classification, regression, clustering, and more.\n"
   ]
  },
  {
   "cell_type": "markdown",
   "id": "2116061a",
   "metadata": {},
   "source": [
    "| Data Science Tools    |\n",
    "|-----------------------|\n",
    "| Jupyter Notebook      |\n",
    "| RStudio               |\n",
    "| Visual Studio Code    |"
   ]
  },
  {
   "cell_type": "markdown",
   "id": "9e474d72",
   "metadata": {},
   "source": [
    "### Below are a few examples of evaluating arithmetic expressions in Python"
   ]
  },
  {
   "cell_type": "code",
   "execution_count": 1,
   "id": "630c44a3",
   "metadata": {},
   "outputs": [
    {
     "data": {
      "text/plain": [
       "17"
      ]
     },
     "execution_count": 1,
     "metadata": {},
     "output_type": "execute_result"
    }
   ],
   "source": [
    "# This is a simple arithmetic expression to multiply then add integers.\n",
    "result = (3 * 4) + 5\n",
    "result\n"
   ]
  },
  {
   "cell_type": "code",
   "execution_count": 2,
   "id": "038d599d",
   "metadata": {},
   "outputs": [
    {
     "data": {
      "text/plain": [
       "3.3333333333333335"
      ]
     },
     "execution_count": 2,
     "metadata": {},
     "output_type": "execute_result"
    }
   ],
   "source": [
    "# This will convert 200 minutes to hours by dividing by 60.\n",
    "minutes = 200\n",
    "hours = minutes / 60\n",
    "hours\n"
   ]
  },
  {
   "cell_type": "markdown",
   "id": "54f47007",
   "metadata": {},
   "source": [
    "**Objectives:**\n",
    "\n",
    "- Identify popular languages used in Data Science.\n",
    "- Recognize commonly used libraries in Data Science.\n",
    "- Explore open-source tools for Data Science development environments.\n",
    "- Perform simple arithmetic operations in code cells.\n",
    "- Convert units (minutes to hours) using Python expressions.\n"
   ]
  },
  {
   "cell_type": "markdown",
   "id": "918c9715",
   "metadata": {},
   "source": [
    "## Author"
   ]
  },
  {
   "cell_type": "markdown",
   "id": "977fdd58",
   "metadata": {},
   "source": [
    "janki Gabani"
   ]
  },
  {
   "cell_type": "code",
   "execution_count": null,
   "id": "4bf9b4e5",
   "metadata": {},
   "outputs": [],
   "source": []
  }
 ],
 "metadata": {
  "kernelspec": {
   "display_name": "Python 3 (ipykernel)",
   "language": "python",
   "name": "python3"
  },
  "language_info": {
   "codemirror_mode": {
    "name": "ipython",
    "version": 3
   },
   "file_extension": ".py",
   "mimetype": "text/x-python",
   "name": "python",
   "nbconvert_exporter": "python",
   "pygments_lexer": "ipython3",
   "version": "3.10.9"
  }
 },
 "nbformat": 4,
 "nbformat_minor": 5
}
